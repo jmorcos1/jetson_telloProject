{
 "cells": [
  {
   "cell_type": "code",
   "execution_count": 2,
   "id": "8011a2a8-7c75-4ef6-a01b-b7fadf0b565c",
   "metadata": {},
   "outputs": [],
   "source": [
    "import ece_drone_App as da"
   ]
  },
  {
   "cell_type": "markdown",
   "id": "4091981c-9541-4130-8d11-707eef779838",
   "metadata": {},
   "source": [
    "^\n",
    "----\n",
    "GOOD\n",
    "---------------------------------------------------------------------------------------------------\n",
    "TEST\n",
    "----\n",
    "*"
   ]
  },
  {
   "cell_type": "code",
   "execution_count": null,
   "id": "0c0a7b85-87fc-45d9-90da-7d4bda209853",
   "metadata": {},
   "outputs": [],
   "source": [
    "jt.run_jetson_tello_app(fly, process_frame=detect_faces_and_objects)"
   ]
  }
 ],
 "metadata": {
  "kernelspec": {
   "display_name": "Python 3",
   "language": "python",
   "name": "python3"
  },
  "language_info": {
   "codemirror_mode": {
    "name": "ipython",
    "version": 3
   },
   "file_extension": ".py",
   "mimetype": "text/x-python",
   "name": "python",
   "nbconvert_exporter": "python",
   "pygments_lexer": "ipython3",
   "version": "3.6.9"
  }
 },
 "nbformat": 4,
 "nbformat_minor": 5
}
