{
 "cells": [
  {
   "cell_type": "code",
   "execution_count": 1,
   "id": "f9a3f9e0-c415-4f31-9d06-74b95e2cf470",
   "metadata": {},
   "outputs": [],
   "source": [
    "import asyncio"
   ]
  },
  {
   "cell_type": "code",
   "execution_count": 2,
   "id": "17f255be-b2e4-44df-90e0-4a6e36bdb4e5",
   "metadata": {},
   "outputs": [],
   "source": [
    "from jetson_inference import detectNet"
   ]
  },
  {
   "cell_type": "code",
   "execution_count": null,
   "id": "09e3966a-d3fb-49f1-8ae8-06984cf344f0",
   "metadata": {},
   "outputs": [],
   "source": [
    "import jetsonTelloVideo.jetson_tello.app as jt"
   ]
  },
  {
   "cell_type": "code",
   "execution_count": null,
   "id": "dfb1c89b-1728-4676-9f3e-c416ae5f6625",
   "metadata": {},
   "outputs": [],
   "source": []
  }
 ],
 "metadata": {
  "kernelspec": {
   "display_name": "Python 3",
   "language": "python",
   "name": "python3"
  },
  "language_info": {
   "codemirror_mode": {
    "name": "ipython",
    "version": 3
   },
   "file_extension": ".py",
   "mimetype": "text/x-python",
   "name": "python",
   "nbconvert_exporter": "python",
   "pygments_lexer": "ipython3",
   "version": "3.6.9"
  }
 },
 "nbformat": 4,
 "nbformat_minor": 5
}
