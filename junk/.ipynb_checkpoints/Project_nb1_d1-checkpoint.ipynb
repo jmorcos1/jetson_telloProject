{
 "cells": [
  {
   "cell_type": "code",
   "execution_count": 2,
   "id": "8011a2a8-7c75-4ef6-a01b-b7fadf0b565c",
   "metadata": {},
   "outputs": [],
   "source": [
    "import ece_drone_App as da"
   ]
  },
  {
   "cell_type": "markdown",
   "id": "4091981c-9541-4130-8d11-707eef779838",
   "metadata": {},
   "source": [
    "^\n",
    "----\n",
    "GOOD\n",
    "---------------------------------------------------------------------------------------------------\n",
    "TEST\n",
    "----\n",
    "*"
   ]
  },
  {
   "cell_type": "code",
   "execution_count": null,
   "id": "b474ae35-c568-4d2d-b182-04ffd85e10cd",
   "metadata": {},
   "outputs": [],
   "source": [
    "#*GET:\n",
    "####!python3 -m pip install pillow ###done\n",
    "#*TEST:\n",
    "!echo $LD_PRELOAD\n",
    "!python3 -m pip show h264decoder\n",
    "!python3 -m pip show tello-asyncio\n",
    "#!python3 -m pip show jetson.utils\n"
   ]
  },
  {
   "cell_type": "code",
   "execution_count": null,
   "id": "df2a831f-270e-432a-b62a-309925979f88",
   "metadata": {},
   "outputs": [],
   "source": [
    "#*TEST:\n",
    "#f\n",
    "#import h264decoder\n",
    "\n",
    "#p\n",
    "#from h264decoder import H264Decoder"
   ]
  },
  {
   "cell_type": "code",
   "execution_count": null,
   "id": "94a5467c-316a-4061-b8d8-68172533350c",
   "metadata": {},
   "outputs": [],
   "source": [
    "#*TEST:\n",
    "#p\n",
    "#import jetsonTello.jetson_tello.video.H264DecoderAsync"
   ]
  },
  {
   "cell_type": "code",
   "execution_count": null,
   "id": "6ee93e19-450c-4eee-bf8f-4903654a44c1",
   "metadata": {},
   "outputs": [],
   "source": [
    "import asyncio\n",
    "import jetson_inference\n",
    "import jetsonTello.jetson_tello.app as jt\n",
    "\n",
    "\n",
    "#import jetson.inference\n",
    "#from jetson_tello import run_jetson_tello_app\n",
    "#import \"./jetson-tello/jetson_tello/__init__.py\"\n",
    "#from \"jetson-tello/jetson_tello/app.py\" import run_jetson_tello_app\n",
    "#from jetsonTello.jetson_tello.app import run_jetson_tello_app\n",
    "# from h264decoder import H264Decoder\n",
    "#from tello_asyncio import Tello"
   ]
  },
  {
   "cell_type": "code",
   "execution_count": null,
   "id": "33922d10-c818-4292-b340-4349d70bd24b",
   "metadata": {},
   "outputs": [],
   "source": [
    "face_detector = jetson_inference.detectNet(\"facenet\", threshold=0.5)\n",
    "object_detector = jetson_inference.detectNet(\"ssd-mobilenet-v2\", threshold=0.5)\n",
    "\n"
   ]
  },
  {
   "cell_type": "code",
   "execution_count": null,
   "id": "c52acbb1-92f4-4c64-aebb-6ea6df833cbe",
   "metadata": {},
   "outputs": [],
   "source": [
    "def detect_faces_and_objects(drone, frame, cuda):\n",
    "    print('Frame:',frame)\n",
    "    print('[DETECT-Faces]')\n",
    "    print('------------------------')\n",
    "    \n",
    "    face_detections = face_detector.Detect(cuda)\n",
    "    \n",
    "    print('[DETECT-Objects]')\n",
    "    print('------------------------')\n",
    "    object_detections = object_detector.Detect(cuda)\n",
    "    \n",
    "    \n",
    "\n",
    "    print('faces:')\n",
    "    for d in face_detections:\n",
    "        print(d)\n",
    "\n",
    "    print('objects:')\n",
    "    for d in object_detections:\n",
    "        print(d)"
   ]
  },
  {
   "cell_type": "code",
   "execution_count": null,
   "id": "1ecf34f5-648c-4b5a-b0bf-947437b9168c",
   "metadata": {},
   "outputs": [],
   "source": [
    "async def fly(drone):\n",
    "    await drone.takeoff()\n",
    "    for i in range(4):\n",
    "        await drone.turn_clockwise(90)\n",
    "        await asyncio.sleep(3)\n",
    "    await drone.land()"
   ]
  },
  {
   "cell_type": "code",
   "execution_count": null,
   "id": "0c0a7b85-87fc-45d9-90da-7d4bda209853",
   "metadata": {},
   "outputs": [],
   "source": [
    "jt.run_jetson_tello_app(fly, process_frame=detect_faces_and_objects)"
   ]
  },
  {
   "cell_type": "code",
   "execution_count": null,
   "id": "e3096506-a3f3-4e0c-8825-98622c7245c4",
   "metadata": {},
   "outputs": [],
   "source": [
    "#import numpy as np\n",
    "import asyncio\n",
    "#import h264decoder\n",
    "#from tello_asyncio import Tello\n",
    "import jetson_inference\n",
    "from jetson_tello import run_jetson_tello_app\n",
    "#import jetson_tello\n",
    "\n",
    "#from jetson_tello import h264_frame_to_cuda, FrameDecoderError\n",
    "\n",
    "#h264_frame_to_cuda, h264_frame_to_numpy_array, \n",
    "#decoded_frame_to_cuda, decoded_frame_to_numpy_array,\n",
    "#NoFrameData, DecodedFrame, H264DecoderAsync\n"
   ]
  },
  {
   "cell_type": "code",
   "execution_count": null,
   "id": "e196638a-a471-4649-b41c-5f8f357dcd4a",
   "metadata": {},
   "outputs": [],
   "source": []
  }
 ],
 "metadata": {
  "kernelspec": {
   "display_name": "Python 3",
   "language": "python",
   "name": "python3"
  },
  "language_info": {
   "codemirror_mode": {
    "name": "ipython",
    "version": 3
   },
   "file_extension": ".py",
   "mimetype": "text/x-python",
   "name": "python",
   "nbconvert_exporter": "python",
   "pygments_lexer": "ipython3",
   "version": "3.6.9"
  }
 },
 "nbformat": 4,
 "nbformat_minor": 5
}
